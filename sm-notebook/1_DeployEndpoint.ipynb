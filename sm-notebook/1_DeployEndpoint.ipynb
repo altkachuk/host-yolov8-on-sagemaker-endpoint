{
 "cells": [
  {
   "cell_type": "markdown",
   "id": "33dcbabf-2c40-4c28-bf1c-daf9ffef3ca3",
   "metadata": {},
   "source": [
    "## 1.1 Import Python Libraries"
   ]
  },
  {
   "cell_type": "code",
   "execution_count": 26,
   "id": "663dc165-7f93-42b0-ad01-f1651650d1b7",
   "metadata": {
    "tags": []
   },
   "outputs": [],
   "source": [
    "import os, sagemaker, subprocess, boto3\n",
    "from datetime import datetime\n",
    "from sagemaker import s3\n",
    "from sagemaker import get_execution_role\n",
    "from sagemaker.pytorch import PyTorchModel\n",
    "from sagemaker.deserializers import JSONDeserializer"
   ]
  },
  {
   "cell_type": "markdown",
   "id": "4183a04e-2ab1-4b76-9fdb-4a55b6db923d",
   "metadata": {},
   "source": [
    "## 1.2 Install Ultralytics for YOLOv8 model\n",
    "\n",
    "There are following models to choose from:\n",
    "1. Object Detection:\n",
    "    - yolov8l.pt\n",
    "    - yolov8m.pt\n",
    "    - yolov8n.pt\n",
    "    - yolov8s.pt\n",
    "    - yolov8x.pt\n",
    "    - yolov8x6.pt\n",
    "2. Segmentation:\n",
    "    - yolov8l-seg.pt\n",
    "    - yolov8m-seg.pt\n",
    "    - yolov8n-seg.pt\n",
    "    - yolov8s-seg.pt\n",
    "    - yolov8x-seg.pt\n",
    "3. Classification:\n",
    "    - yolov8l-cls.pt\n",
    "    - yolov8m-cls.pt\n",
    "    - yolov8n-cls.pt\n",
    "    - yolov8s-cls.pt\n",
    "    - yolov8x-cls.pt\n",
    "4. Pose:\n",
    "    - yolov8n-pose.pt\n",
    "    - yolov8s-pose.pt\n",
    "    - yolov8m-pose.pt\n",
    "    - yolov8l-pose.pt\n",
    "    - yolov8x-pose.pt\n",
    "    - yolov8x-pose-p6.pt\n",
    "\n",
    "For further information, check the link: https://docs.ultralytics.com"
   ]
  },
  {
   "cell_type": "code",
   "execution_count": 27,
   "id": "aa890ad6",
   "metadata": {
    "tags": []
   },
   "outputs": [
    {
     "name": "stdout",
     "output_type": "stream",
     "text": [
      "Downloading https://github.com/ultralytics/assets/releases/download/v8.1.0/yolov8x.pt to 'yolov8x.pt'...\n"
     ]
    },
    {
     "name": "stderr",
     "output_type": "stream",
     "text": [
      "100%|██████████| 131M/131M [00:03<00:00, 39.8MB/s] \n"
     ]
    }
   ],
   "source": [
    "#!pip3 install ultralytics\n",
    "from ultralytics import YOLO\n",
    "\n",
    "## Choose a model:\n",
    "model_name = 'yolov8x.pt'\n",
    "\n",
    "YOLO(model_name)\n",
    "os.system(f'mv {model_name} code/.')\n",
    "\n",
    "bashCommand = \"tar -cpzf  model.tar.gz code/\"\n",
    "process = subprocess.Popen(bashCommand.split(), stdout=subprocess.PIPE)\n",
    "output, error = process.communicate()"
   ]
  },
  {
   "cell_type": "markdown",
   "id": "9c4f30e2-4916-457a-9cf5-f24f4944835a",
   "metadata": {},
   "source": [
    "## 1.3 Zip the code and model into `model.tar.gz` and upload it to specific S3 bucket\n",
    "Here permission is granted to the S3 bucket created with CDK and not any other bucket"
   ]
  },
  {
   "cell_type": "code",
   "execution_count": 28,
   "id": "ultimate-triangle",
   "metadata": {
    "tags": []
   },
   "outputs": [
    {
     "name": "stdout",
     "output_type": "stream",
     "text": [
      "Bucket: s3://dev-sagemaker-yolov8\n"
     ]
    }
   ],
   "source": [
    "s3_client = boto3.client('s3')\n",
    "response = s3_client.list_buckets()\n",
    "for bucket in response['Buckets']:\n",
    "    if 'yolov8' in bucket[\"Name\"]:\n",
    "        bucket = 's3://' + bucket[\"Name\"]\n",
    "        break\n",
    "\n",
    "print(f'Bucket: {bucket}')\n",
    "sess = sagemaker.Session(default_bucket=bucket.split('s3://')[-1])\n",
    "\n",
    "prefix = \"yolov8/model\""
   ]
  },
  {
   "cell_type": "code",
   "execution_count": 29,
   "id": "2d4c5032-8a51-4539-8ef6-cfa8f07e2d8b",
   "metadata": {
    "tags": []
   },
   "outputs": [
    {
     "name": "stdout",
     "output_type": "stream",
     "text": [
      "Role: arn:aws:iam::637423538863:role/dev-sagemaker-role\n",
      "Bucket: s3://dev-sagemaker-yolov8\n",
      "Model Data: s3://dev-sagemaker-yolov8/yolov8/model/model.tar.gz\n"
     ]
    }
   ],
   "source": [
    "sm_client = boto3.client(service_name=\"sagemaker\")\n",
    "runtime_sm_client = boto3.client(service_name=\"sagemaker-runtime\")\n",
    "\n",
    "account_id = boto3.client(\"sts\").get_caller_identity()[\"Account\"]\n",
    "region = boto3.Session().region_name\n",
    "\n",
    "role = \"arn:aws:iam::637423538863:role/dev-sagemaker-role\"\n",
    "print(f'Role: {role}')\n",
    "\n",
    "model_data = s3.S3Uploader.upload(\"model.tar.gz\", bucket + \"/\" + prefix)\n",
    "print(f'Bucket: {bucket}')\n",
    "print(f'Model Data: {model_data}')"
   ]
  },
  {
   "cell_type": "code",
   "execution_count": 30,
   "id": "eee6f833",
   "metadata": {},
   "outputs": [],
   "source": [
    "# INSTANCE_TYPE = \"ml.m5.2xlarge\"\n",
    "# INSTANCE_TYPE = 'ml.inf2.xlarge'\n",
    "INSTANCE_TYPE = \"ml.g5.xlarge\"\n",
    "# ACCELERATOR_TYPE = 'ml.eia2.xlarge'\n",
    "ENDPOINT_NAME = \"yolov8-pytorch-endpoint\""
   ]
  },
  {
   "cell_type": "markdown",
   "id": "91c395a5",
   "metadata": {},
   "source": [
    "## 1.4 Create the SageMaker PyTorchModel"
   ]
  },
  {
   "cell_type": "code",
   "execution_count": 31,
   "id": "dfdced23-e766-4ead-9a16-7c45dec8c0a6",
   "metadata": {
    "tags": []
   },
   "outputs": [],
   "source": [
    "model = PyTorchModel(entry_point='inference.py',\n",
    "                     model_data=model_data, \n",
    "                     framework_version='1.12', \n",
    "                     py_version='py38',\n",
    "                     role=role,\n",
    "                     env={'TS_MAX_RESPONSE_SIZE':'20000000', 'YOLOV8_MODEL': model_name},\n",
    "                     sagemaker_session=sess)"
   ]
  },
  {
   "cell_type": "markdown",
   "id": "6f453781",
   "metadata": {},
   "source": [
    "## 1.4 Compile the SageMaker PyTorchModel (for Inferentia instances)"
   ]
  },
  {
   "cell_type": "code",
   "execution_count": 32,
   "id": "ec5d7f53",
   "metadata": {},
   "outputs": [],
   "source": [
    "from sagemaker.utils import name_from_base\n",
    "import json\n",
    "\n",
    "if \"inf\" in INSTANCE_TYPE:\n",
    "    bucket = sess.default_bucket()\n",
    "    compilation_job_name = name_from_base(\"Yolov8-Inf1\")\n",
    "    compiled_model_path = \"s3://{}/{}/output\".format(bucket, \"yolov8\")\n",
    "    print(f\"Compiled model path: {compiled_model_path}\")\n",
    "    model.compile(\n",
    "        target_instance_family=\"ml_inf2\",\n",
    "        input_shape={\"input0\": [1, 3, 640, 640]},\n",
    "        output_path=compiled_model_path,\n",
    "        framework_version=\"1.12\",\n",
    "        role=role,\n",
    "        job_name=compilation_job_name,\n",
    "        compiler_options=json.dumps(\"--dtype int64\"),\n",
    "    )"
   ]
  },
  {
   "cell_type": "markdown",
   "id": "polyphonic-outline",
   "metadata": {},
   "source": [
    "## 1.5 Deploy the model on SageMaker Endpoint:"
   ]
  },
  {
   "cell_type": "code",
   "execution_count": 33,
   "id": "convinced-miller",
   "metadata": {
    "tags": []
   },
   "outputs": [
    {
     "name": "stdout",
     "output_type": "stream",
     "text": [
      "Stored 'ENDPOINT_NAME' (str)\n",
      "Endpoint Name: yolov8-pytorch-endpoint\n"
     ]
    },
    {
     "name": "stdout",
     "output_type": "stream",
     "text": [
      "--------!"
     ]
    }
   ],
   "source": [
    "# Store the endpoint name in the history to be accessed by 2_TestEndpoint.ipynb notebook\n",
    "%store ENDPOINT_NAME\n",
    "print(f'Endpoint Name: {ENDPOINT_NAME}')\n",
    "\n",
    "predictor = model.deploy(initial_instance_count=1, \n",
    "                         instance_type=INSTANCE_TYPE,\n",
    "                         #accelerator_type=ACCELERATOR_TYPE,\n",
    "                         deserializer=JSONDeserializer(),\n",
    "                         endpoint_name=ENDPOINT_NAME)"
   ]
  }
 ],
 "metadata": {
  "kernelspec": {
   "display_name": "torch",
   "language": "python",
   "name": "python3"
  },
  "language_info": {
   "codemirror_mode": {
    "name": "ipython",
    "version": 3
   },
   "file_extension": ".py",
   "mimetype": "text/x-python",
   "name": "python",
   "nbconvert_exporter": "python",
   "pygments_lexer": "ipython3",
   "version": "3.10.13"
  }
 },
 "nbformat": 4,
 "nbformat_minor": 5
}
